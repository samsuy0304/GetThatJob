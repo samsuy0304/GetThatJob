{
 "cells": [
  {
   "cell_type": "code",
   "execution_count": 43,
   "id": "11e41180-9dbd-4780-9f82-37ab97929a84",
   "metadata": {},
   "outputs": [],
   "source": [
    "from bs4 import BeautifulSoup\n",
    "import requests"
   ]
  },
  {
   "cell_type": "code",
   "execution_count": 44,
   "id": "e4b5ece9-ef15-4169-a8de-c301a4ef5941",
   "metadata": {},
   "outputs": [],
   "source": [
    "url = \"https://h1bgrader.com/job-titles/data-scientist-d0g9n44qko#job-h1b-sponsors\"\n",
    "\n",
    "page = requests.get(url)\n",
    "\n",
    "soup = BeautifulSoup(page.text, 'html')"
   ]
  },
  {
   "cell_type": "code",
   "execution_count": 52,
   "id": "691ade87-8a6c-4e06-8093-a9834af57735",
   "metadata": {},
   "outputs": [
    {
     "name": "stdout",
     "output_type": "stream",
     "text": [
      "[]\n"
     ]
    }
   ],
   "source": [
    "table = soup.find_all('div', id_ = \"h1bsponsors-by-job-wrapper\")\n",
    "print(table)"
   ]
  },
  {
   "cell_type": "code",
   "execution_count": 32,
   "id": "16e0b0da-5f58-443c-9893-9b3ae76bfc70",
   "metadata": {},
   "outputs": [
    {
     "name": "stdout",
     "output_type": "stream",
     "text": [
      "['Employer Name (H1B LCA Filings Count)', 'Counts']\n"
     ]
    }
   ],
   "source": [
    "title = [table.find_all(\"th\")[-1].text.strip(), 'Counts']\n",
    "print(title)"
   ]
  },
  {
   "cell_type": "code",
   "execution_count": 34,
   "id": "d2a372a7-b71c-4aee-a30c-523e406de6fb",
   "metadata": {},
   "outputs": [],
   "source": [
    "import pandas as pd"
   ]
  },
  {
   "cell_type": "code",
   "execution_count": 35,
   "id": "129e5e27-57e4-476b-9e8e-c52874352430",
   "metadata": {},
   "outputs": [
    {
     "data": {
      "text/html": [
       "<div>\n",
       "<style scoped>\n",
       "    .dataframe tbody tr th:only-of-type {\n",
       "        vertical-align: middle;\n",
       "    }\n",
       "\n",
       "    .dataframe tbody tr th {\n",
       "        vertical-align: top;\n",
       "    }\n",
       "\n",
       "    .dataframe thead th {\n",
       "        text-align: right;\n",
       "    }\n",
       "</style>\n",
       "<table border=\"1\" class=\"dataframe\">\n",
       "  <thead>\n",
       "    <tr style=\"text-align: right;\">\n",
       "      <th></th>\n",
       "      <th>Employer Name (H1B LCA Filings Count)</th>\n",
       "      <th>Counts</th>\n",
       "    </tr>\n",
       "  </thead>\n",
       "  <tbody>\n",
       "  </tbody>\n",
       "</table>\n",
       "</div>"
      ],
      "text/plain": [
       "Empty DataFrame\n",
       "Columns: [Employer Name (H1B LCA Filings Count), Counts]\n",
       "Index: []"
      ]
     },
     "execution_count": 35,
     "metadata": {},
     "output_type": "execute_result"
    }
   ],
   "source": [
    "df = pd.DataFrame(columns = title)\n",
    "df"
   ]
  },
  {
   "cell_type": "code",
   "execution_count": 42,
   "id": "922c655f-9395-4573-b3e5-c7e760e2e169",
   "metadata": {},
   "outputs": [
    {
     "name": "stdout",
     "output_type": "stream",
     "text": [
      "[<tr><th class=\"header\" scope=\"col\"> Employer Name (H1B LCA Filings Count)</th></tr>]\n"
     ]
    }
   ],
   "source": [
    "rows = table.find_all(\"tr\")\n",
    "print(rows)"
   ]
  },
  {
   "cell_type": "code",
   "execution_count": 61,
   "id": "a4b94012-3fcf-4b8a-afc1-c9a055548763",
   "metadata": {},
   "outputs": [
    {
     "name": "stdout",
     "output_type": "stream",
     "text": [
      " Employer Name (H1B LCA Filings Count)\n",
      "Meta Platforms INC (146)\n",
      "Wal Mart Associates INC (115)\n",
      "Google LLC (104)\n",
      "Intel Corporation (64)\n",
      "Apple INC (61)\n",
      "Aetna Resources LLC (37)\n",
      "Oracle America INC (31)\n",
      "Caremark LLC (23)\n",
      "Amgen INC (21)\n",
      "Visa USA INC (19)\n",
      "the Boston Consulting Group INC (18)\n",
      "Cisco Systems INC (17)\n",
      "Ford Motor Company (16)\n",
      "Linkedin Corporation (16)\n",
      "Cloudberg TEC Limited Company (16)\n",
      "IBM Corporation (14)\n",
      "Lyft INC (13)\n",
      "Uber Technologies INC (12)\n",
      "Bytedance INC (12)\n",
      "C3ai INC (12)\n",
      "Battelle Memorial Institute (11)\n",
      "Microsoft Corporation (11)\n",
      "Social Finance INC (10)\n",
      "Nvidia Corporation (10)\n",
      "MPG Operations LLC (9)\n",
      "Ericsson INC (9)\n",
      "Waymo LLC (9)\n",
      "International Business Machines Corporation (8)\n",
      "Doordash INC (8)\n",
      "NK Technolabs LLC (7)\n",
      "Intuit INC (7)\n",
      "Hewlett Packard Enterprise Company (7)\n",
      "Bayer Research and Development Services LLC (7)\n",
      "Blend360 LLC (7)\n",
      "Elevance Health INC (7)\n",
      "Pinterest INC (7)\n",
      "Incedo INC (6)\n",
      "Bloomberg LP (6)\n",
      "Artificial Intelligence Technologies LLC (6)\n",
      "Nextdoor INC (6)\n",
      "ACE American Insurance Company (6)\n",
      "Home Depot Management Company LLC (6)\n",
      "Afterpay US INC (6)\n",
      "Netflix INC (6)\n",
      "Quora INC (6)\n",
      "Block INC (6)\n",
      "Airbnb INC (6)\n",
      "the Childrens Hospital of Philadelphia (6)\n",
      "Optibrand LLC (5)\n",
      "AON Consulting INC (5)\n",
      "Dropbox INC (5)\n",
      "Colaberry INC (5)\n",
      "Asana INC (5)\n",
      "California Institute of Technologyjet Propulsion Laboratory (5)\n",
      "Digital Technologies LLC (5)\n",
      "Robotics Technologies LLC (5)\n",
      "the University of Texas MD Anderson Cancer Center (5)\n",
      "Ascentt Business Systems INC (5)\n",
      "Expedia INC (5)\n",
      "Progressive Casualty Insurance Company (5)\n",
      "CVS Pharmacy INC (5)\n",
      "Safeway INC (5)\n",
      "Contextlogic INC DBA Wish (5)\n",
      "Data Science Technologies LLC (5)\n",
      "Siemens Medical Solutions USA INC (5)\n",
      "Tiktok INC (5)\n",
      "Visa Technology & Operations LLC (5)\n",
      "Climate LLC (5)\n",
      "Point72 LP (5)\n",
      "Stripe INC (5)\n",
      "the Hertz Corporation (5)\n",
      "T Mobile USA INC (5)\n",
      "WW International INC (5)\n",
      "Maplebear INC (5)\n",
      "Schlumberger Technology Corporation (5)\n",
      "Two Sigma Investments LP (4)\n",
      "Focuskpi INC (4)\n",
      "Stitch FIX INC (4)\n",
      "ICE Data Pricing & Reference Data LLC (4)\n",
      "Verily Life Sciences LLC (4)\n",
      "Quantum Technologies LLC (4)\n",
      "Nuro INC (4)\n",
      "US Bank National Association (4)\n",
      "the University of Phoenix INC (4)\n",
      "University of Michigan (4)\n",
      "Mongodb INC (4)\n",
      "Etek IT Solutions INC (4)\n",
      "Soothsayer Analytics LLC (4)\n",
      "Roku INC (4)\n",
      "Leidos INC (4)\n",
      "Huma AI INC (4)\n",
      "Cbre INC (4)\n",
      "Centific Technologies INC (4)\n",
      "Deloitte & Touche LLP (4)\n",
      "Paypal INC (4)\n",
      "Cequence Security INC (4)\n",
      "Indeed INC (4)\n",
      "Zeus Solutions INC (4)\n",
      "Zymebalanz LLC (4)\n",
      "USG INC (4)\n",
      "No more next page link or element found: Message: element click intercepted: Element <li class=\"paginate_button page-item \">...</li> is not clickable at point (558, 633). Other element would receive the click: <iframe id=\"google_ads_iframe_/18190176,21750957078/AdThrive_Footer_1/649b62a3bcaea5439c0725f8_0\" name=\"google_ads_iframe_/18190176,21750957078/AdThrive_Footer_1/649b62a3bcaea5439c0725f8_0\" title=\"3rd party ad content\" width=\"728\" height=\"90\" scrolling=\"no\" marginwidth=\"0\" marginheight=\"0\" frameborder=\"0\" role=\"region\" aria-label=\"Advertisement\" tabindex=\"0\" style=\"border: 0px; vertical-align: bottom;\" data-load-complete=\"true\" data-google-container-id=\"4\"></iframe>\n",
      "  (Session info: chrome=120.0.6099.130)\n",
      "Stacktrace:\n",
      "\tGetHandleVerifier [0x010F6EE3+174339]\n",
      "\t(No symbol) [0x01020A51]\n",
      "\t(No symbol) [0x00D36FF6]\n",
      "\t(No symbol) [0x00D6E48E]\n",
      "\t(No symbol) [0x00D6D09E]\n",
      "\t(No symbol) [0x00D6B5F8]\n",
      "\t(No symbol) [0x00D6AD7F]\n",
      "\t(No symbol) [0x00D62B4E]\n",
      "\t(No symbol) [0x00D8700C]\n",
      "\t(No symbol) [0x00D625B0]\n",
      "\t(No symbol) [0x00D87414]\n",
      "\t(No symbol) [0x00D9A104]\n",
      "\t(No symbol) [0x00D86DA6]\n",
      "\t(No symbol) [0x00D61034]\n",
      "\t(No symbol) [0x00D61F8D]\n",
      "\tGetHandleVerifier [0x01194B1C+820540]\n",
      "\tsqlite3_dbdata_init [0x012553EE+653550]\n",
      "\tsqlite3_dbdata_init [0x01254E09+652041]\n",
      "\tsqlite3_dbdata_init [0x012497CC+605388]\n",
      "\tsqlite3_dbdata_init [0x01255D9B+656027]\n",
      "\t(No symbol) [0x0102FE6C]\n",
      "\t(No symbol) [0x010283B8]\n",
      "\t(No symbol) [0x010284DD]\n",
      "\t(No symbol) [0x01015818]\n",
      "\tBaseThreadInitThunk [0x7560FCC9+25]\n",
      "\tRtlGetAppContainerNamedObjectPath [0x76F77C6E+286]\n",
      "\tRtlGetAppContainerNamedObjectPath [0x76F77C3E+238]\n",
      "\n"
     ]
    }
   ],
   "source": [
    "from selenium import webdriver\n",
    "from selenium.webdriver.common.by import By\n",
    "from selenium.webdriver.support.ui import WebDriverWait\n",
    "from selenium.webdriver.support import expected_conditions as EC\n",
    "import time\n",
    "from selenium.webdriver.chrome.service import Service\n",
    "from bs4 import BeautifulSoup\n",
    "from webdriver_manager.chrome import ChromeDriverManager\n",
    "\n",
    "chromedriver_path = ChromeDriverManager().install() \n",
    "# Start a Selenium webdriver\n",
    "service = Service(chromedriver_path)\n",
    "driver = webdriver.Chrome(service=service)\n",
    "\n",
    "# URL of the page containing the table\n",
    "url = 'https://h1bgrader.com/job-titles/data-scientist-d0g9n44qko#job-h1b-sponsors'  # Replace this with the actual URL\n",
    "\n",
    "# Load the webpage\n",
    "driver.get(url)\n",
    "\n",
    "# Placeholder for scraped data\n",
    "all_data = []\n",
    "button_index = 2\n",
    "expectedNextButtonName = 1\n",
    "while True:\n",
    "    # Wait for the table to load (if necessary)\n",
    "    # You might need to implement waits to ensure the table has fully loaded\n",
    "    \n",
    "    # Get the page source after JavaScript execution\n",
    "    page_source = driver.page_source\n",
    "    \n",
    "    # Use BeautifulSoup to parse the page source\n",
    "    soup = BeautifulSoup(page_source, 'html.parser')\n",
    "    table = soup.find_all('table')[3]  # Replace with your table ID\n",
    "    \n",
    "    rows = table.find_all(\"tr\")\n",
    "    for element in rows:\n",
    "        all_data.append(element.text)\n",
    "        #print(element.text)  # Replace this with how you want to handle each entry\n",
    "    \n",
    "    # Look for the next page link and click it\n",
    "    try:\n",
    "        xpath = f'//*[@id=\"h1bsponsor-by-job_paginate\"]/ul/li[{button_index}]'\n",
    "        nextXpath = f'//*[@id=\"h1bsponsor-by-job_paginate\"]/ul/li[{button_index+1}]'\n",
    "        time.sleep(2)\n",
    "        next_page_link = WebDriverWait(driver, 10).until(\n",
    "            EC.element_to_be_clickable((By.XPATH, xpath))\n",
    "        )\n",
    "        next_page_link.click()\n",
    "\n",
    "        #check button at next index's name, if the name == next name  button_index++ else button_index stays the same\n",
    "        nextButtonName = driver.find_element(By.XPATH, nextXpath).text\n",
    "        expectedNextButtonName = expectedNextButtonName+1\n",
    "        print(button_index,nextButtonName,expectedNextButtonName,(str(expectedNextButtonName) == str(nextButtonName)))\n",
    "        if str(expectedNextButtonName) == str(nextButtonName):\n",
    "            button_index = button_index + 1\n",
    "        \n",
    "        \n",
    "\n",
    "        time.sleep(2)  # Add a small delay to ensure the next page content loads (adjust if needed)\n",
    "    except Exception as e:\n",
    "        print(f\"No more next page link or element found: {e}\")\n",
    "        break\n",
    "\n",
    "# Once finished, you can process 'all_data' as needed\n",
    "# For example, converting it to a DataFrame:\n",
    "# df = pd.DataFrame(all_data)\n",
    "# print(df)\n",
    "\n",
    "# Close the webdriver\n",
    "driver.quit()"
   ]
  },
  {
   "cell_type": "code",
   "execution_count": 63,
   "id": "94dc9851-cd2c-476e-bd4e-76f68a0a03a1",
   "metadata": {},
   "outputs": [
    {
     "name": "stdout",
     "output_type": "stream",
     "text": [
      "101\n"
     ]
    }
   ],
   "source": [
    "print(len(all_data))"
   ]
  },
  {
   "cell_type": "code",
   "execution_count": null,
   "id": "18f5ce50-74f4-46c7-b747-3c79fb09eab6",
   "metadata": {},
   "outputs": [],
   "source": []
  }
 ],
 "metadata": {
  "kernelspec": {
   "display_name": "Python 3 (ipykernel)",
   "language": "python",
   "name": "python3"
  },
  "language_info": {
   "codemirror_mode": {
    "name": "ipython",
    "version": 3
   },
   "file_extension": ".py",
   "mimetype": "text/x-python",
   "name": "python",
   "nbconvert_exporter": "python",
   "pygments_lexer": "ipython3",
   "version": "3.12.1"
  }
 },
 "nbformat": 4,
 "nbformat_minor": 5
}
